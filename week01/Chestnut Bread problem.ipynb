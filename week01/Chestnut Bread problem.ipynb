{
 "cells": [
  {
   "cell_type": "code",
   "execution_count": 7,
   "metadata": {},
   "outputs": [
    {
     "name": "stdout",
     "output_type": "stream",
     "text": [
      "It takes: 465 minutes to cover the planet\n"
     ]
    },
    {
     "data": {
      "image/png": "[encoded data removed]",
      "text/plain": [
       "<Figure size 432x288 with 1 Axes>"
      ]
     },
     "metadata": {
      "needs_background": "light"
     },
     "output_type": "display_data"
    }
   ],
   "source": [
    "import math\n",
    "import matplotlib.pyplot as plt\n",
    "# As I found on the Internet, the volume of the sun is around 1.4 x 10e+27 cubic meters\n",
    "\"\"\"About chestnut bread, I can not find any information about it. Therefore, I assume that one chestnut bread \n",
    " is nearly 250 cubic decimeters\"\"\"\n",
    "CHESTNUT_BREAD = 250 * pow(10,-3) # cubic meter\n",
    "THE_SUN = 1.4 * pow(10,27) # cubic meter\n",
    "\n",
    "def cover_the_planet(v1, v2):\n",
    "    sprinkled = []\n",
    "    grown = v2\n",
    "    while v1 > grown:\n",
    "        grown = grown * 2\n",
    "        sprinkled.append(grown)\n",
    "    return sprinkled\n",
    "times = cover_the_planet(THE_SUN, CHESTNUT_BREAD)\n",
    "print(\"It takes: {} minutes to cover the planet\".format(len(times)*5))\n",
    "plt.title(\"Chestnut Bread Problem\")\n",
    "plt.xlabel(\"number of times\")\n",
    "plt.ylabel(\"cubic meters\")\n",
    "plt.tick_params(labelsize=20)\n",
    "plt.plot(times, color='green') # The Green line for the number of grains that Mr Sosori received per day\n",
    "plt.show()"
   ]
  },
  {
   "cell_type": "code",
   "execution_count": null,
   "metadata": {},
   "outputs": [],
   "source": []
  }
 ],
 "metadata": {
  "kernelspec": {
   "display_name": "Python 3",
   "language": "python",
   "name": "python3"
  },
  "language_info": {
   "codemirror_mode": {
    "name": "ipython",
    "version": 3
   },
   "file_extension": ".py",
   "mimetype": "text/x-python",
   "name": "python",
   "nbconvert_exporter": "python",
   "pygments_lexer": "ipython3",
   "version": "3.8.5"
  }
 },
 "nbformat": 4,
 "nbformat_minor": 4
}
