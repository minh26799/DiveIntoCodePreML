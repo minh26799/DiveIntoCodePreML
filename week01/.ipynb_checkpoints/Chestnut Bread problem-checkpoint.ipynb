{
 "cells": [
  {
   "cell_type": "code",
   "execution_count": null,
   "metadata": {},
   "outputs": [],
   "source": [
    "import math \n",
    "# As I found on the Internet, the volume of the sun is around 1.4 x 10e+27 cubic meters\n",
    "\"\"\"About chestnut bread, I can not find any information about it. Therefore, I assume that one chestnut bread \n",
    " is nearly 250 cubic centimeters\"\"\" \n",
    "CHESTNUT_BREAD = 250 * pow(10,-10)"
   ]
  }
 ],
 "metadata": {
  "kernelspec": {
   "display_name": "Python 3",
   "language": "python",
   "name": "python3"
  },
  "language_info": {
   "codemirror_mode": {
    "name": "ipython",
    "version": 3
   },
   "file_extension": ".py",
   "mimetype": "text/x-python",
   "name": "python",
   "nbconvert_exporter": "python",
   "pygments_lexer": "ipython3",
   "version": "3.8.5"
  }
 },
 "nbformat": 4,
 "nbformat_minor": 4
}
