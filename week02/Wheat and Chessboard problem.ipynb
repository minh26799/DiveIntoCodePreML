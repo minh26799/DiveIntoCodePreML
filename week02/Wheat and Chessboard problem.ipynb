{
 "cells": [
  {
   "cell_type": "code",
   "execution_count": 2,
   "metadata": {},
   "outputs": [
    {
     "name": "stdout",
     "output_type": "stream",
     "text": [
      "Arrange wheat on a plate of 4 squares (ndarray)：[[1 2]\n",
      " [4 8]]\n"
     ]
    }
   ],
   "source": [
    "# Problem 01\n",
    "import numpy as np\n",
    "n_squares = 4\n",
    "small_board_list = [1]\n",
    "for _ in range(n_squares - 1):\n",
    "    small_board_list.append(2*small_board_list[-1])\n",
    "small_board_ndarray = np.array(small_board_list)\n",
    "small_board_ndarray = small_board_ndarray.reshape(2,2)\n",
    "print(\"Arrange wheat on a plate of 4 squares (ndarray)：{}\".format(small_board_ndarray))\n"
   ]
  },
  {
   "cell_type": "code",
   "execution_count": 3,
   "metadata": {},
   "outputs": [
    {
     "name": "stdout",
     "output_type": "stream",
     "text": [
      "The 8x8 of wheat: \n",
      " [[1.00000000e+00 2.00000000e+00 4.00000000e+00 8.00000000e+00\n",
      "  1.60000000e+01 3.20000000e+01 6.40000000e+01 1.28000000e+02]\n",
      " [2.56000000e+02 5.12000000e+02 1.02400000e+03 2.04800000e+03\n",
      "  4.09600000e+03 8.19200000e+03 1.63840000e+04 3.27680000e+04]\n",
      " [6.55360000e+04 1.31072000e+05 2.62144000e+05 5.24288000e+05\n",
      "  1.04857600e+06 2.09715200e+06 4.19430400e+06 8.38860800e+06]\n",
      " [1.67772160e+07 3.35544320e+07 6.71088640e+07 1.34217728e+08\n",
      "  2.68435456e+08 5.36870912e+08 1.07374182e+09 2.14748365e+09]\n",
      " [4.29496730e+09 8.58993459e+09 1.71798692e+10 3.43597384e+10\n",
      "  6.87194767e+10 1.37438953e+11 2.74877907e+11 5.49755814e+11]\n",
      " [1.09951163e+12 2.19902326e+12 4.39804651e+12 8.79609302e+12\n",
      "  1.75921860e+13 3.51843721e+13 7.03687442e+13 1.40737488e+14]\n",
      " [2.81474977e+14 5.62949953e+14 1.12589991e+15 2.25179981e+15\n",
      "  4.50359963e+15 9.00719925e+15 1.80143985e+16 3.60287970e+16]\n",
      " [7.20575940e+16 1.44115188e+17 2.88230376e+17 5.76460752e+17\n",
      "  1.15292150e+18 2.30584301e+18 4.61168602e+18 9.22337204e+18]]\n"
     ]
    }
   ],
   "source": [
    "# Problem 02\n",
    "import numpy as np\n",
    "def ndarray(n,m):\n",
    "    board = []\n",
    "    count = 0\n",
    "    for i in range(n):\n",
    "        for j in range(m):\n",
    "            board.append(pow(2,count))\n",
    "            count += 1\n",
    "    return board\n",
    "board = ndarray(8,8)\n",
    "chessboard = np.array([board])\n",
    "chessboard = chessboard.reshape(8,8)\n",
    "print(\"The 8x8 of wheat: \\n {}\".format(chessboard))"
   ]
  },
  {
   "cell_type": "code",
   "execution_count": 4,
   "metadata": {},
   "outputs": [
    {
     "name": "stdout",
     "output_type": "stream",
     "text": [
      "The sum of wheat: 1.8446744073709552e+19\n",
      "The sum of wheat in each column: \n",
      " [7.23401728e+16 1.44680346e+17 2.89360691e+17 5.78721383e+17\n",
      " 1.15744277e+18 2.31488553e+18 4.62977106e+18 9.25954212e+18]\n"
     ]
    },
    {
     "data": {
      "image/png": "[encoded data removed]",
      "text/plain": [
       "<Figure size 432x288 with 1 Axes>"
      ]
     },
     "metadata": {
      "needs_background": "light"
     },
     "output_type": "display_data"
    }
   ],
   "source": [
    "# Problem 03\n",
    "import matplotlib.pyplot as plt\n",
    "%matplotlib inline\n",
    "print(\"The sum of wheat: {}\".format(chessboard.sum()))\n",
    "print(\"The sum of wheat in each column: \\n {}\".format(chessboard.sum(axis = 0)))\n",
    "plt.xlabel(\"column\")\n",
    "plt.ylabel(\"number\")\n",
    "plt.title(\"number in each column\")\n",
    "plt.bar(np.arange(1,9), chessboard.sum(axis = 0))\n",
    "plt.show()"
   ]
  },
  {
   "cell_type": "code",
   "execution_count": 5,
   "metadata": {},
   "outputs": [
    {
     "data": {
      "image/png": "[encoded data removed]",
      "text/plain": [
       "<Figure size 432x288 with 1 Axes>"
      ]
     },
     "metadata": {
      "needs_background": "light"
     },
     "output_type": "display_data"
    }
   ],
   "source": [
    "# Problem 04\n",
    "plt.xlabel(\"column\")\n",
    "plt.ylabel(\"row\")\n",
    "plt.title(\"heatmap\")\n",
    "plt.pcolor(chessboard[0].reshape(4, 2)) # I used heat map to present the first column of the 8x8 board\n",
    "plt.show()"
   ]
  },
  {
   "cell_type": "code",
   "execution_count": 6,
   "metadata": {},
   "outputs": [
    {
     "name": "stdout",
     "output_type": "stream",
     "text": [
      "The ratio of the Second half and the Fist half of the chessboard: 4294967296.0\n"
     ]
    }
   ],
   "source": [
    "# Problem 05\n",
    "print(\"The ratio of the Second half and the Fist half of the chessboard: {}\".format(chessboard[4:7].sum()//chessboard[0:3].sum()))"
   ]
  },
  {
   "cell_type": "code",
   "execution_count": 8,
   "metadata": {},
   "outputs": [
    {
     "name": "stdout",
     "output_type": "stream",
     "text": [
      "[[                  1                   2                   4\n",
      "                    8                  16                  32\n",
      "                   64                 128]\n",
      " [                256                 512                1024\n",
      "                 2048                4096                8192\n",
      "                16384               32768]\n",
      " [              65536              131072              262144\n",
      "               524288             1048576             2097152\n",
      "              4194304             8388608]\n",
      " [           16777216            33554432            67108864\n",
      "            134217728           268435456           536870912\n",
      "           1073741824          2147483648]\n",
      " [         4294967296          8589934592         17179869184\n",
      "          34359738368         68719476736        137438953472\n",
      "         274877906944        549755813888]\n",
      " [      1099511627776       2199023255552       4398046511104\n",
      "        8796093022208      17592186044416      35184372088832\n",
      "       70368744177664     140737488355328]\n",
      " [    281474976710656     562949953421312    1125899906842624\n",
      "     2251799813685248    4503599627370496    9007199254740992\n",
      "    18014398509481984   36028797018963968]\n",
      " [  72057594037927936  144115188075855872  288230376151711744\n",
      "   576460752303423488 1152921504606846976 2305843009213693952\n",
      "  4611686018427387904 9223372036854775808]]\n",
      "The Wheat chessboard 8x8 which created by using broadcast is：9223372036854775808\n",
      "The Wheat chessboard 8x8 which created by using broadcast is：9.223372036854776e+18\n"
     ]
    }
   ],
   "source": [
    "# Problem 06\n",
    "def aspendfunc(n_squares):\n",
    "    board = np.array([1]).astype(np.uint64)\n",
    "    for _ in range(n_squares-1):\n",
    "        board = np.append(board, 2*board[-1])\n",
    "    return board\n",
    "def broadcastfunc(n_squares):\n",
    "    indices_of_squares = np.arange(n_squares).astype(np.uint64)\n",
    "    chessboard = 2**indices_of_squares\n",
    "    return chessboard\n",
    "# abc = broadcastfunc(64).reshape(8,8)\n",
    "# print(abc)\n",
    "print(\"The Wheat chessboard 8x8 which created by using broadcast is：{}\".format(broadcastfunc(64)[-1]))\n",
    "print(\"The Wheat chessboard 8x8 which created by using broadcast is：{}\".format(aspendfunc(64)[-1]))"
   ]
  },
  {
   "cell_type": "code",
   "execution_count": 82,
   "metadata": {},
   "outputs": [
    {
     "name": "stdout",
     "output_type": "stream",
     "text": [
      "377 µs ± 1.4 µs per loop (mean ± std. dev. of 7 runs, 1000 loops each)\n"
     ]
    }
   ],
   "source": [
    "%%timeit\n",
    "aspendfunc(64)\n",
    "broadcastfunc(64)\n",
    "ndarray(8,8)\n"
   ]
  },
  {
   "cell_type": "code",
   "execution_count": null,
   "metadata": {},
   "outputs": [],
   "source": []
  },
  {
   "cell_type": "code",
   "execution_count": null,
   "metadata": {},
   "outputs": [],
   "source": []
  }
 ],
 "metadata": {
  "kernelspec": {
   "display_name": "Python 3",
   "language": "python",
   "name": "python3"
  },
  "language_info": {
   "codemirror_mode": {
    "name": "ipython",
    "version": 3
   },
   "file_extension": ".py",
   "mimetype": "text/x-python",
   "name": "python",
   "nbconvert_exporter": "python",
   "pygments_lexer": "ipython3",
   "version": "3.8.5"
  }
 },
 "nbformat": 4,
 "nbformat_minor": 4
}
