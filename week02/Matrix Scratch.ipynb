{
 "cells": [
  {
   "cell_type": "code",
   "execution_count": 1,
   "metadata": {},
   "outputs": [],
   "source": [
    "import numpy as np"
   ]
  },
  {
   "cell_type": "code",
   "execution_count": 10,
   "metadata": {},
   "outputs": [
    {
     "name": "stdout",
     "output_type": "stream",
     "text": [
      "The product array that I calculated by hand is: \n",
      " [[  6  29 -20]\n",
      " [ 12  52  38]\n",
      " [-18 -51 -48]]\n"
     ]
    }
   ],
   "source": [
    "a_ndarray = np.array([[-1, 2, 3], [4, -5, 6], [7, 8, -9]])\n",
    "b_ndarray = np.array([[0, 2, 1], [0, 2, -8], [2, 9, -1]])\n",
    "\"\"\"\n",
    "To calculate the product of two arrays, \n",
    "I multiply a row of first matrix to the column of second matrix.\n",
    "For example, for a11 of the product matrix \"c\", I take the sum of:\n",
    "    c11 = a11 * b11 + a12 * b21 + a13 * b31\n",
    "I do the same method for the rest to calculate product matrix \"c\"\n",
    "\"\"\"\n",
    "c_ndarray = np.array([[6,29,-20],[12,52,38],[-18,-51,-48]])\n",
    "print(\"The product array that I calculated by hand is: \\n {}\".format(c_ndarray))"
   ]
  },
  {
   "cell_type": "code",
   "execution_count": 13,
   "metadata": {},
   "outputs": [
    {
     "name": "stdout",
     "output_type": "stream",
     "text": [
      "The product matrix by using label @ is: \n",
      " [[  6  29 -20]\n",
      " [ 12  52  38]\n",
      " [-18 -51 -48]]\n",
      "The product matrix by using label np.matmul function is: \n",
      " [[  6  29 -20]\n",
      " [ 12  52  38]\n",
      " [-18 -51 -48]]\n",
      "The product matrix by using label np.dot function is: \n",
      " [[  6  29 -20]\n",
      " [ 12  52  38]\n",
      " [-18 -51 -48]]\n"
     ]
    }
   ],
   "source": [
    "print(\"The product matrix by using label @ is: \\n {}\".format(a_ndarray @ b_ndarray))\n",
    "print(\"The product matrix by using np.matmul function is: \\n {}\".format(np.matmul(a_ndarray, b_ndarray)))\n",
    "print(\"The product matrix by using np.dot function is: \\n {}\".format(np.dot(a_ndarray, b_ndarray)))\n",
    "# Personally, I think using @ operator is the easier compare to the other methods."
   ]
  },
  {
   "cell_type": "code",
   "execution_count": 40,
   "metadata": {},
   "outputs": [
    {
     "name": "stdout",
     "output_type": "stream",
     "text": [
      "The matrix that I calculated without using any given method: \n",
      " [[  6.  29. -20.]\n",
      " [ 12.  52.  38.]\n",
      " [-18. -51. -48.]]\n"
     ]
    }
   ],
   "source": [
    "def matrix_mul(a_ndarray, b_ndarray):\n",
    "    new_ndarray = np.array([])\n",
    "    for i in range(0,3):\n",
    "        for j in range(0,3):\n",
    "            temp = 0\n",
    "            for k in range(0,3):\n",
    "                temp += a_ndarray[i][k] * b_ndarray[k][j]\n",
    "            new_ndarray = np.append(new_ndarray, temp)\n",
    "    return new_ndarray\n",
    "newc_ndarray = matrix_mul(a_ndarray, b_ndarray) \n",
    "newc_ndarray = newc_ndarray.reshape(3,3)\n",
    "print(\"The matrix that I calculated without using any given method: \\n {}\".format(newc_ndarray))"
   ]
  },
  {
   "cell_type": "code",
   "execution_count": 39,
   "metadata": {},
   "outputs": [
    {
     "name": "stdout",
     "output_type": "stream",
     "text": [
      "Two given arrays is invalid to make a multiplication!\n"
     ]
    }
   ],
   "source": [
    "def matrix_mul(a_ndarray, b_ndarray):\n",
    "    if len(a_ndarray) == len(b_ndarray) and len(a_ndarray[0]) == len(b_ndarray[0]):\n",
    "        print(\"Two given arrays is invalid to make a multiplication!\")\n",
    "        return []\n",
    "    # To check the number of columns I check the len of ndarray\n",
    "    # To check the number of rows I check the len of a subarray in ndarray\n",
    "    # So if they are equal mean that the multiplication can not be executed\n",
    "    new_ndarray = np.array([])\n",
    "    for i in range(0,3):\n",
    "        for j in range(0,3):\n",
    "            temp = 0\n",
    "            for k in range(0,3):\n",
    "                temp += a_ndarray[i][k] * b_ndarray[k][j]\n",
    "            new_ndarray = np.append(new_ndarray, temp)\n",
    "    return new_ndarray\n",
    "d_ndarray = np.array([[-1, 2, 3], [4, -5, 6]])\n",
    "e_ndarray = np.array([[-9, 8, 7], [6, -5, 4]])\n",
    "newc_ndarray_prob5 = matrix_mul(d_ndarray, e_ndarray) \n"
   ]
  },
  {
   "cell_type": "code",
   "execution_count": 44,
   "metadata": {},
   "outputs": [
    {
     "name": "stdout",
     "output_type": "stream",
     "text": [
      "The transposed of d_ndarray is: \n",
      " [[-1  4]\n",
      " [ 2 -5]\n",
      " [ 3  6]]\n",
      "The transposed of e_ndarray is: \n",
      " [[-9  6]\n",
      " [ 8 -5]\n",
      " [ 7  4]]\n"
     ]
    }
   ],
   "source": [
    "prob6_ndarray = np.transpose(d_ndarray)\n",
    "# As we see here, the d_ndarray and e_ndarray which is 2x3 becomes 3x2 by transpose\n",
    "print(\"The transposed of d_ndarray is: \\n {}\".format(prob6_ndarray))\n",
    "print(\"The transposed of e_ndarray is: \\n {}\".format(e_ndarray.T))\n"
   ]
  },
  {
   "cell_type": "code",
   "execution_count": null,
   "metadata": {},
   "outputs": [],
   "source": []
  }
 ],
 "metadata": {
  "kernelspec": {
   "display_name": "Python 3",
   "language": "python",
   "name": "python3"
  },
  "language_info": {
   "codemirror_mode": {
    "name": "ipython",
    "version": 3
   },
   "file_extension": ".py",
   "mimetype": "text/x-python",
   "name": "python",
   "nbconvert_exporter": "python",
   "pygments_lexer": "ipython3",
   "version": "3.8.5"
  }
 },
 "nbformat": 4,
 "nbformat_minor": 4
}
