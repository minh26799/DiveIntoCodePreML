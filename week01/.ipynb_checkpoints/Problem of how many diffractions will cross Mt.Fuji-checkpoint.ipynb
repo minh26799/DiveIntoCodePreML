{
 "cells": [
  {
   "cell_type": "code",
   "execution_count": 1,
   "metadata": {},
   "outputs": [
    {
     "name": "stdout",
     "output_type": "stream",
     "text": [
      "Times the paper is folded when the thickness exceeds Mt Fuji: 25 times\n"
     ]
    }
   ],
   "source": [
    "import math\n",
    "THICKNESS = 0.00008\n",
    "MTFUJICONSTANT = 3776\n",
    "times = math.log2(MTFUJICONSTANT//THICKNESS)\n",
    "print(\"Times the paper is folded when the thickness exceeds Mt Fuji: {} times\".format(round(times)))"
   ]
  },
  {
   "cell_type": "code",
   "execution_count": 4,
   "metadata": {},
   "outputs": [
    {
     "name": "stdout",
     "output_type": "stream",
     "text": [
      "times the paper needs to be diffracted to reach the closest non-Sun star: 69 times\n"
     ]
    }
   ],
   "source": [
    "import math\n",
    "THICKNESS = 0.00008\n",
    "def number_of_diffractions(distances):\n",
    "    return round(math.log2(distances//THICKNESS))\n",
    "# Outside of our Sun, our system's nearest neighbor is Proxima Centauri\n",
    "# The distance is 4.24 light years away\n",
    "# 1 light year = 9460730472580800 metres\n",
    "LIGHTYEAR = 9460730472580800\n",
    "diffraction = number_of_diffractions(LIGHTYEAR*4.24)\n",
    "print(\"times the paper needs to be diffracted to reach the closest non-Sun star: {} times\".format(diffraction))"
   ]
  },
  {
   "cell_type": "code",
   "execution_count": 12,
   "metadata": {},
   "outputs": [
    {
     "name": "stdout",
     "output_type": "stream",
     "text": [
      "The length of paper needed to reach the Mt. Fuji: 47161589230.0 meters\n",
      "The length of paper needed to reach the Moon: 8.102298610429717e+20 meters\n",
      "The length of paper needed to reach the Mercury: 2.1239689669310416e+26 meters\n"
     ]
    }
   ],
   "source": [
    "import math\n",
    "THICKNESS = 0.00008\n",
    "MTFUJI = 3776\n",
    "TOMOON = 384400000 # The distance from the earth to the moon\n",
    "TOMERCURY = 155000000000 # As I found on the Internet MERCURY is the closest plannet to our HOME (the EARTH)\n",
    "def length_of_paper(distances, t0 = THICKNESS):\n",
    "    \n",
    "    def number_of_diffractions(d):\n",
    "        return round(math.log2(d/THICKNESS))\n",
    "    \n",
    "    times = number_of_diffractions(distances)\n",
    "    return math.pi*t0*(pow(2,times)+4)*(pow(2,times)-1)//6\n",
    "print(\"The length of paper needed to reach the Mt. Fuji: {} meters\".format(length_of_paper(MTFUJI)))\n",
    "print(\"The length of paper needed to reach the Moon: {} meters\".format(length_of_paper(TOMOON)))\n",
    "print(\"The length of paper needed to reach the Mercury: {} meters\".format(length_of_paper(TOMERCURY)))"
   ]
  },
  {
   "cell_type": "code",
   "execution_count": null,
   "metadata": {},
   "outputs": [],
   "source": []
  }
 ],
 "metadata": {
  "kernelspec": {
   "display_name": "Python 3",
   "language": "python",
   "name": "python3"
  },
  "language_info": {
   "codemirror_mode": {
    "name": "ipython",
    "version": 3
   },
   "file_extension": ".py",
   "mimetype": "text/x-python",
   "name": "python",
   "nbconvert_exporter": "python",
   "pygments_lexer": "ipython3",
   "version": "3.8.5"
  }
 },
 "nbformat": 4,
 "nbformat_minor": 4
}
