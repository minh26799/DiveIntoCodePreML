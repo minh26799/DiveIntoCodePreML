{
 "cells": [
  {
   "cell_type": "code",
   "execution_count": 2,
   "metadata": {},
   "outputs": [],
   "source": [
    "import numpy as np\n",
    "import matplotlib.pyplot as plt\n",
    "import math"
   ]
  },
  {
   "cell_type": "code",
   "execution_count": 3,
   "metadata": {},
   "outputs": [
    {
     "name": "stdout",
     "output_type": "stream",
     "text": [
      "ndarray: [-50.  -24.  -49.  -23.5 -48.  -23.  -47.  -22.5 -46.  -22.  -45.  -21.5\n",
      " -44.  -21.  -43.  -20.5 -42.  -20.  -41.  -19.5 -40.  -19.  -39.  -18.5\n",
      " -38.  -18.  -37.  -17.5 -36.  -17.  -35.  -16.5 -34.  -16.  -33.  -15.5\n",
      " -32.  -15.  -31.  -14.5 -30.  -14.  -29.  -13.5 -28.  -13.  -27.  -12.5\n",
      " -26.  -12.  -25.  -11.5 -24.  -11.  -23.  -10.5 -22.  -10.  -21.   -9.5\n",
      " -20.   -9.  -19.   -8.5 -18.   -8.  -17.   -7.5 -16.   -7.  -15.   -6.5\n",
      " -14.   -6.  -13.   -5.5 -12.   -5.  -11.   -4.5 -10.   -4.   -9.   -3.5\n",
      "  -8.   -3.   -7.   -2.5  -6.   -2.   -5.   -1.5  -4.   -1.   -3.   -0.5\n",
      "  -2.    0.   -1.    0.5   0.    1.    1.    1.5   2.    2.    3.    2.5\n",
      "   4.    3.    5.    3.5   6.    4.    7.    4.5   8.    5.    9.    5.5\n",
      "  10.    6.   11.    6.5  12.    7.   13.    7.5  14.    8.   15.    8.5\n",
      "  16.    9.   17.    9.5  18.   10.   19.   10.5  20.   11.   21.   11.5\n",
      "  22.   12.   23.   12.5  24.   13.   25.   13.5  26.   14.   27.   14.5\n",
      "  28.   15.   29.   15.5  30.   16.   31.   16.5  32.   17.   33.   17.5\n",
      "  34.   18.   35.   18.5  36.   19.   37.   19.5  38.   20.   39.   20.5\n",
      "  40.   21.   41.   21.5  42.   22.   43.   22.5  44.   23.   45.   23.5\n",
      "  46.   24.   47.   24.5  48.   25.   49.   25.5  50.   26. ]\n"
     ]
    }
   ],
   "source": [
    "ndarray = np.array([])\n",
    "\n",
    "for i in range(-50,51):\n",
    "    ndarray = np.append(ndarray, [i, 1/2 * i + 1])\n",
    "print(\"ndarray: {}\".format(ndarray))"
   ]
  },
  {
   "cell_type": "code",
   "execution_count": 4,
   "metadata": {},
   "outputs": [
    {
     "name": "stdout",
     "output_type": "stream",
     "text": [
      "ndarray reshape into form (101,2): \n",
      " [[-50.  -24. ]\n",
      " [-49.  -23.5]\n",
      " [-48.  -23. ]\n",
      " [-47.  -22.5]\n",
      " [-46.  -22. ]\n",
      " [-45.  -21.5]\n",
      " [-44.  -21. ]\n",
      " [-43.  -20.5]\n",
      " [-42.  -20. ]\n",
      " [-41.  -19.5]\n",
      " [-40.  -19. ]\n",
      " [-39.  -18.5]\n",
      " [-38.  -18. ]\n",
      " [-37.  -17.5]\n",
      " [-36.  -17. ]\n",
      " [-35.  -16.5]\n",
      " [-34.  -16. ]\n",
      " [-33.  -15.5]\n",
      " [-32.  -15. ]\n",
      " [-31.  -14.5]\n",
      " [-30.  -14. ]\n",
      " [-29.  -13.5]\n",
      " [-28.  -13. ]\n",
      " [-27.  -12.5]\n",
      " [-26.  -12. ]\n",
      " [-25.  -11.5]\n",
      " [-24.  -11. ]\n",
      " [-23.  -10.5]\n",
      " [-22.  -10. ]\n",
      " [-21.   -9.5]\n",
      " [-20.   -9. ]\n",
      " [-19.   -8.5]\n",
      " [-18.   -8. ]\n",
      " [-17.   -7.5]\n",
      " [-16.   -7. ]\n",
      " [-15.   -6.5]\n",
      " [-14.   -6. ]\n",
      " [-13.   -5.5]\n",
      " [-12.   -5. ]\n",
      " [-11.   -4.5]\n",
      " [-10.   -4. ]\n",
      " [ -9.   -3.5]\n",
      " [ -8.   -3. ]\n",
      " [ -7.   -2.5]\n",
      " [ -6.   -2. ]\n",
      " [ -5.   -1.5]\n",
      " [ -4.   -1. ]\n",
      " [ -3.   -0.5]\n",
      " [ -2.    0. ]\n",
      " [ -1.    0.5]\n",
      " [  0.    1. ]\n",
      " [  1.    1.5]\n",
      " [  2.    2. ]\n",
      " [  3.    2.5]\n",
      " [  4.    3. ]\n",
      " [  5.    3.5]\n",
      " [  6.    4. ]\n",
      " [  7.    4.5]\n",
      " [  8.    5. ]\n",
      " [  9.    5.5]\n",
      " [ 10.    6. ]\n",
      " [ 11.    6.5]\n",
      " [ 12.    7. ]\n",
      " [ 13.    7.5]\n",
      " [ 14.    8. ]\n",
      " [ 15.    8.5]\n",
      " [ 16.    9. ]\n",
      " [ 17.    9.5]\n",
      " [ 18.   10. ]\n",
      " [ 19.   10.5]\n",
      " [ 20.   11. ]\n",
      " [ 21.   11.5]\n",
      " [ 22.   12. ]\n",
      " [ 23.   12.5]\n",
      " [ 24.   13. ]\n",
      " [ 25.   13.5]\n",
      " [ 26.   14. ]\n",
      " [ 27.   14.5]\n",
      " [ 28.   15. ]\n",
      " [ 29.   15.5]\n",
      " [ 30.   16. ]\n",
      " [ 31.   16.5]\n",
      " [ 32.   17. ]\n",
      " [ 33.   17.5]\n",
      " [ 34.   18. ]\n",
      " [ 35.   18.5]\n",
      " [ 36.   19. ]\n",
      " [ 37.   19.5]\n",
      " [ 38.   20. ]\n",
      " [ 39.   20.5]\n",
      " [ 40.   21. ]\n",
      " [ 41.   21.5]\n",
      " [ 42.   22. ]\n",
      " [ 43.   22.5]\n",
      " [ 44.   23. ]\n",
      " [ 45.   23.5]\n",
      " [ 46.   24. ]\n",
      " [ 47.   24.5]\n",
      " [ 48.   25. ]\n",
      " [ 49.   25.5]\n",
      " [ 50.   26. ]]\n"
     ]
    }
   ],
   "source": [
    "ndarray = ndarray.reshape(101,2)\n",
    "print(\"ndarray reshape into form (101,2): \\n {}\".format(ndarray))"
   ]
  },
  {
   "cell_type": "code",
   "execution_count": 5,
   "metadata": {},
   "outputs": [
    {
     "name": "stdout",
     "output_type": "stream",
     "text": [
      "The ndarray of gradient is: \n",
      " [2. 2. 2. 2. 2. 2. 2. 2. 2. 2. 2. 2. 2. 2. 2. 2. 2. 2. 2. 2. 2. 2. 2. 2.\n",
      " 2. 2. 2. 2. 2. 2. 2. 2. 2. 2. 2. 2. 2. 2. 2. 2. 2. 2. 2. 2. 2. 2. 2. 2.\n",
      " 2. 2. 2. 2. 2. 2. 2. 2. 2. 2. 2. 2. 2. 2. 2. 2. 2. 2. 2. 2. 2. 2. 2. 2.\n",
      " 2. 2. 2. 2. 2. 2. 2. 2. 2. 2. 2. 2. 2. 2. 2. 2. 2. 2. 2. 2. 2. 2. 2. 2.\n",
      " 2. 2. 2. 2.]\n"
     ]
    }
   ],
   "source": [
    "xarray = np.array(ndarray[:,0])\n",
    "yarray = np.array(ndarray[:,1])\n",
    "xarray = xarray[1:] - xarray[:-1]\n",
    "yarray = yarray[1:] - yarray[:-1]\n",
    "ndarray3 = np.array([])\n",
    "for each in tuple(zip(xarray,yarray)):\n",
    "    ndarray3 = np.append(ndarray3, each)\n",
    "ndarray3 = ndarray3.reshape(100,2)\n",
    "prob3array = np.array([])\n",
    "prob3array = np.append(prob3array, ndarray3[:,0]/ndarray3[:,1])\n",
    "print(\"The ndarray of gradient is: \\n {}\".format(prob3array))"
   ]
  },
  {
   "cell_type": "code",
   "execution_count": 6,
   "metadata": {},
   "outputs": [
    {
     "data": {
      "image/png": "[encoded data removed]",
      "text/plain": [
       "<Figure size 432x288 with 1 Axes>"
      ]
     },
     "metadata": {
      "needs_background": "light"
     },
     "output_type": "display_data"
    }
   ],
   "source": [
    "plt.title(\"Linear Function\")\n",
    "plt.xlabel(\"x\")\n",
    "plt.ylabel(\"y\")\n",
    "plt.plot(ndarray[:,0],ndarray[:,1], color=\"red\")\n",
    "plt.show()"
   ]
  },
  {
   "cell_type": "code",
   "execution_count": 7,
   "metadata": {},
   "outputs": [
    {
     "name": "stdout",
     "output_type": "stream",
     "text": [
      "Please, choose the numberr from 1 to 3 for three functions1\n"
     ]
    },
    {
     "data": {
      "image/png": "[encoded data removed]",
      "text/plain": [
       "<Figure size 432x288 with 1 Axes>"
      ]
     },
     "metadata": {
      "needs_background": "light"
     },
     "output_type": "display_data"
    },
    {
     "name": "stdout",
     "output_type": "stream",
     "text": [
      "The ndarray: \n",
      "[[ -50.   2500.  ]\n",
      " [ -49.9  2490.01]\n",
      " [ -49.8  2480.04]\n",
      " ...\n",
      " [  49.8  2480.04]\n",
      " [  49.9  2490.01]\n",
      " [  50.   2500.  ]]\n",
      "The ndarray of gradient is: \n",
      " [-50.  -49.9 -49.8 ...  99.5  99.7  99.9]\n"
     ]
    }
   ],
   "source": [
    "\n",
    "def compute_gradient(function, x_range=(-50, 50.1, 0.1)):\n",
    "    ndarray = np.arange(x_range[0],x_range[1],x_range[2])\n",
    "    array_xy = function(ndarray)\n",
    "    xarray = array_xy[:,0][1:] - array_xy[:,0][:-1]\n",
    "    yarray = array_xy[:,1][1:] - array_xy[:,1][:-1]\n",
    "    for each in tuple(zip(xarray,yarray)):\n",
    "        ndarray = np.append(ndarray, each[1]/each[0])\n",
    "    gradient = np.array([])\n",
    "    gradient = ndarray\n",
    "    plt.title(\"Linear Function\")\n",
    "    plt.xlabel(\"x\")\n",
    "    plt.ylabel(\"y\")\n",
    "    plt.plot(array_xy[:,0],array_xy[:,1], color=\"red\")\n",
    "    plt.show()\n",
    "    return array_xy, gradient\n",
    "\n",
    "def function1(array_x):\n",
    "    chosen = int(input(\"Please, choose the numberr from 1 to 3 for three functions\"))\n",
    "    if chosen == 1:\n",
    "        array_y = np.array(tuple(zip(array_x,np.power(array_x,2))))\n",
    "    elif chosen == 2:\n",
    "        array_y = np.array(tuple(zip(array_x,2*np.power(array_x,2) + np.power(2,array_x))))\n",
    "    elif chosen == 3:\n",
    "        array_x = array_x[500:]\n",
    "        \"\"\"\n",
    "        for the third case, because the interval of x is from 0 to 50 \n",
    "        so I remove 500th firts elements\n",
    "        \"\"\"        \n",
    "        array_y = np.array(tuple(zip(array_x,np.sin(np.power(array_x,1/2)))))\n",
    "    return array_y\n",
    "array_xy, gradient = compute_gradient(function1)\n",
    "print(\"The ndarray: \\n{}\".format(array_xy))\n",
    "print(\"The ndarray of gradient is: \\n {}\".format(gradient))"
   ]
  },
  {
   "cell_type": "code",
   "execution_count": 91,
   "metadata": {},
   "outputs": [
    {
     "name": "stdout",
     "output_type": "stream",
     "text": [
      "The minimum value of y in array is: -50.0\n",
      "The position of minimum value of y in array is: 0\n"
     ]
    }
   ],
   "source": [
    "minval = np.min(array_xy)\n",
    "minarg = np.argmin(array_xy)\n",
    "print(\"The minimum value of y in array is: {}\".format(minval))\n",
    "print(\"The position of minimum value of y in array is: {}\".format(minarg))"
   ]
  },
  {
   "cell_type": "code",
   "execution_count": null,
   "metadata": {},
   "outputs": [],
   "source": []
  }
 ],
 "metadata": {
  "kernelspec": {
   "display_name": "Python 3",
   "language": "python",
   "name": "python3"
  },
  "language_info": {
   "codemirror_mode": {
    "name": "ipython",
    "version": 3
   },
   "file_extension": ".py",
   "mimetype": "text/x-python",
   "name": "python",
   "nbconvert_exporter": "python",
   "pygments_lexer": "ipython3",
   "version": "3.8.5"
  }
 },
 "nbformat": 4,
 "nbformat_minor": 4
}
